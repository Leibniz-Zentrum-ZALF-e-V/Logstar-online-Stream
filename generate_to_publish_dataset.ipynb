{
 "cells": [
  {
   "cell_type": "code",
   "execution_count": 74,
   "id": "8103979a-2de7-464f-8cdf-0f448a78b7ac",
   "metadata": {},
   "outputs": [
    {
     "name": "stdout",
     "output_type": "stream",
     "text": [
      "patch_90_mobil.csv\n",
      "patch_74_mobil.csv\n",
      "patch_60.csv\n",
      "patch_51.csv\n",
      "patch_65_mobil.csv\n",
      "patch_105.csv\n",
      "weather_station_02.csv\n",
      "patch_73_mobil.csv\n",
      "patch_96_mobil.csv\n",
      "patch_81.csv\n",
      "patch_49.csv\n",
      "patch_19.csv\n",
      "patch_119.csv\n",
      "patch_95.csv\n",
      "patch_81_mobil.csv\n",
      "patch_59.csv\n",
      "patch_96.csv\n",
      "patch_102.csv\n",
      "patch_110.csv\n",
      "patch_76.csv\n",
      "patch_115.csv\n",
      "patch_74.csv\n",
      "patch_21.csv\n",
      "patch_40.csv\n",
      "patch_66_mobil.csv\n",
      "patch_89_mobil.csv\n",
      "patch_65.csv\n",
      "patch_58.csv\n",
      "patch_39.csv\n",
      "patch_73.csv\n",
      "patch_114.csv\n",
      "patch_50.csv\n",
      "patch_102_mobil.csv\n",
      "patch_12.csv\n",
      "weather_station_01.csv\n",
      "patch_20.csv\n",
      "patch_90.csv\n",
      "patch_95_mobil.csv\n",
      "patch_68.csv\n",
      "patch_89.csv\n"
     ]
    }
   ],
   "source": [
    "import csv\n",
    "import os\n",
    "\n",
    "csv_folder = \"csv_out/\"\n",
    "\n",
    "combined_dict = {\"fieldnames\": [\"timestamp\"]}\n",
    "\n",
    "for f in os.listdir(csv_folder):\n",
    "    station_name = os.path.basename(f)\n",
    "    print(station_name)\n",
    "    with open(os.path.join(csv_folder,f), 'r') as csv_f:\n",
    "        csv_dict = csv.DictReader(csv_f)\n",
    "        new_fieldnames = []\n",
    "        for fieldname in csv_dict.fieldnames:\n",
    "            if fieldname == \"timestamp\":\n",
    "                continue\n",
    "            new_fieldnames.append(station_name + \"_\" + fieldname)\n",
    "        combined_dict[\"fieldnames\"] += (new_fieldnames)\n",
    "        header = True\n",
    "        for row in csv_dict:\n",
    "            combined_dict[row[\"timestamp\"]] = combined_dict.get(row[\"timestamp\"],[])\n"
   ]
  },
  {
   "cell_type": "code",
   "execution_count": 75,
   "id": "ccaef64c-07ee-4346-8415-c35057ae104c",
   "metadata": {},
   "outputs": [
    {
     "name": "stdout",
     "output_type": "stream",
     "text": [
      "patch_90_mobil.csv\n",
      "patch_74_mobil.csv\n",
      "patch_60.csv\n",
      "patch_51.csv\n",
      "patch_65_mobil.csv\n",
      "patch_105.csv\n",
      "weather_station_02.csv\n",
      "patch_73_mobil.csv\n",
      "patch_96_mobil.csv\n",
      "patch_81.csv\n",
      "patch_49.csv\n",
      "patch_19.csv\n",
      "patch_119.csv\n",
      "patch_95.csv\n",
      "patch_81_mobil.csv\n",
      "patch_59.csv\n",
      "patch_96.csv\n",
      "patch_102.csv\n",
      "patch_110.csv\n",
      "patch_76.csv\n",
      "patch_115.csv\n",
      "patch_74.csv\n",
      "patch_21.csv\n",
      "patch_40.csv\n",
      "patch_66_mobil.csv\n",
      "patch_89_mobil.csv\n",
      "patch_65.csv\n",
      "patch_58.csv\n",
      "patch_39.csv\n",
      "patch_73.csv\n",
      "patch_114.csv\n",
      "patch_50.csv\n",
      "patch_102_mobil.csv\n",
      "patch_12.csv\n",
      "weather_station_01.csv\n",
      "patch_20.csv\n",
      "patch_90.csv\n",
      "patch_95_mobil.csv\n",
      "patch_68.csv\n",
      "patch_89.csv\n"
     ]
    }
   ],
   "source": [
    "\n",
    "for f in os.listdir(csv_folder):\n",
    "    timestamps = list(combined_dict.keys())\n",
    "    timestamps.remove(\"fieldnames\")\n",
    "    station_name = os.path.basename(f)\n",
    "    print(station_name)\n",
    "    with open(os.path.join(csv_folder,f), 'r') as csv_f:\n",
    "        csv_dict = csv.DictReader(csv_f)\n",
    "        new_fieldnames = []\n",
    "        for fieldname in csv_dict.fieldnames:\n",
    "            if fieldname == \"timestamp\":\n",
    "                continue\n",
    "            new_fieldnames.append(station_name + \"_\" + fieldname)\n",
    "        num_of_elements = None\n",
    "        for row in csv_dict:\n",
    "            if not num_of_elements:\n",
    "                num_of_elements = len(row) - 1\n",
    "            combined_dict[row[\"timestamp\"]] += list(row.values())[1:]\n",
    "            timestamps.remove(row[\"timestamp\"])\n",
    "        # fill timestamps not present in this file with empty content\n",
    "        empty_values = [\"\" for i in range(num_of_elements)]\n",
    "        for timestamp in timestamps:\n",
    "             combined_dict[timestamp] += empty_values"
   ]
  },
  {
   "cell_type": "code",
   "execution_count": 83,
   "id": "354bee54-bec5-438c-b7be-3c532b15a76b",
   "metadata": {},
   "outputs": [
    {
     "name": "stdout",
     "output_type": "stream",
     "text": [
      "981\n",
      "['weather_station_02.csv_air_moisture_surface_-1.5_cm_% rel. Humidity', 'weather_station_02.csv_air_temperature_surface_-1.5_cm_°C', 'weather_station_01.csv_air_moisture_surface_-1.5_cm_% rel. Humidity', 'weather_station_01.csv_air_temperature_surface_-1.5_cm_°C']\n"
     ]
    }
   ],
   "source": [
    "print(len(set(combined_dict[\"fieldnames\"])))\n",
    "import collections\n",
    "print([item for item, count in collections.Counter(combined_dict[\"fieldnames\"]).items() if count > 1])\n",
    "#for k,v in combined_dict.items():\n",
    "#    print(len(v))"
   ]
  },
  {
   "cell_type": "code",
   "execution_count": null,
   "id": "c609030b-1faa-4262-a473-fd49fb99c4dc",
   "metadata": {},
   "outputs": [],
   "source": []
  }
 ],
 "metadata": {
  "kernelspec": {
   "display_name": "Python 3 (ipykernel)",
   "language": "python",
   "name": "python3"
  },
  "language_info": {
   "codemirror_mode": {
    "name": "ipython",
    "version": 3
   },
   "file_extension": ".py",
   "mimetype": "text/x-python",
   "name": "python",
   "nbconvert_exporter": "python",
   "pygments_lexer": "ipython3",
   "version": "3.9.7"
  }
 },
 "nbformat": 4,
 "nbformat_minor": 5
}
