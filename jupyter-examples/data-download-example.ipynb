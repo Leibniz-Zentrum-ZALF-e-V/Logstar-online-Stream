{
 "cells": [
  {
   "cell_type": "markdown",
   "id": "ddf0ea9d-392a-4302-a52a-c0bac1674c13",
   "metadata": {},
   "source": [
    "# logstar data download guide\n",
    "This notebook gives you an introduction for the logstar-online-stream download tool written in python. You can find the sourcecode under: https://github.com/zalf-rdm/Logstar-online-Stream.\n",
    "Using this tool, LoraWan-sensor-data can be downloaded raw, or with \"cleaned\".\n",
    "\n",
    "In this example notebook we're going to install and import the required python packages, download data from all stations(patches) for the duration between 2021-01-01 and 2022-01-01. Further an example plot is generated for the water_content_values of the right side for patch_12.\n"
   ]
  },
  {
   "cell_type": "markdown",
   "id": "4701a4b1-560d-496b-bbe4-4a0460f07ac7",
   "metadata": {},
   "source": [
    "before downloading the data we have to do some preparations. first of all install the logstar-online-stream python package with all requirements via:"
   ]
  },
  {
   "cell_type": "code",
   "execution_count": null,
   "id": "4afb49af-455c-49bd-b301-7a566b1a0cba",
   "metadata": {},
   "outputs": [],
   "source": [
    "! python -m pip install --force-reinstall git+https://github.com/zalf-rdm/Logstar-online-Stream.git\n",
    "! mkdir data/"
   ]
  },
  {
   "cell_type": "markdown",
   "id": "4766e808-d040-4b15-a0b4-f0c95dd9c2ea",
   "metadata": {},
   "source": [
    "Now we have to define the configuration which we use to download the data. API-Docs via http://dokuwiki.weather-station-data.com/doku.php?id=:en:start:"
   ]
  },
  {
   "cell_type": "code",
   "execution_count": null,
   "id": "6d2ef5d1-7028-4335-8a1f-9944fed3d8e1",
   "metadata": {},
   "outputs": [],
   "source": [
    "import json\n",
    "stations = [\n",
    "            # weather\n",
    "            \"ws1_l1_rtu_BL\",\n",
    "            \"ws2_l1_rtu_BL\",\n",
    "            \"tbsl1_00172_BL\",\n",
    "            # stationary \n",
    "            \"tbs6a_08_180056_BL\",\n",
    "            \"tbs6a_15_180063_BL\",\n",
    "            \"tbs6a_05_180052_BL\",\n",
    "            \"tbs6a_28_180084_BL\",\n",
    "            \"tbs6a_04_180051_BL\",\n",
    "            \"tbs6a_11_180059_BL\",\n",
    "            \"tbs6a_30_180086_BL\",\n",
    "            \"tbs6a_29_180085_BL\",\n",
    "            \"tbs6a_20_180072_BL\",\n",
    "            \"tbs6a_21_180073_BL\",\n",
    "            \"tbs6a_10_180058_BL\",\n",
    "            \"tbs6a_01_180048_BL\",\n",
    "            \"tbs6a_02_180049_BL\",\n",
    "            \"tbs6a_07_180055_BL\",\n",
    "            \"tbs6a_22_180075_BL\",\n",
    "            \"tbs6a_03_180050_BL\",\n",
    "            \"tbs6a_17_180069_BL\",\n",
    "            \"tbs6a_13_180061_BL\",\n",
    "            \"tbs6a_26_180082_BL\",\n",
    "            \"tbs6a_24_180078_BL\",\n",
    "            \"tbs6a_23_180076_BL\",\n",
    "            \"tbs6a_09_180057_BL\",\n",
    "            \"tbs6a_25_180081_BL\",\n",
    "            \"tbs6a_18_180070_BL\",\n",
    "            \"tbs6a_19_180071_BL\",\n",
    "            \"tbs6a_16_180068_BL\",\n",
    "            # mobile\n",
    "            \"wcecst_01_BL\",\n",
    "            \"wcecst_02_BL\",\n",
    "            \"wcecst_03_BL\",\n",
    "            \"wcecst_04_BL\",\n",
    "            \"wcecst_05_BL\",\n",
    "            \"wcecst_06_BL\",\n",
    "            \"wcecst_07_BL\",\n",
    "            \"wcecst_08_BL\",\n",
    "            \"wcecst_09_BL\",\n",
    "            \"wcecst_10_BL\" ]\n",
    "conf = {\n",
    "    \"apikey\": \"\", # logstar api key\n",
    "    \"stationlist\": stations, # list of stations to process\n",
    "    \"geodata\": True, # Returns longitude and latitude of the station as well as a comment (not implemented, i guess)\n",
    "    \"datetime\": 0, #  Date and time format in the channel list: integer: 0/1\n",
    "                   #  0 (default): „dateTime“: „2020-04-01 00:00:00“\n",
    "                   #  1: „date“: „2020-04-01“, „time“: „00:00:00“\n",
    "    \"startdate\": \"2021-01-01\", # Day from which the data should be retrieved in the format: YYYY-MM-DD\n",
    "    \"enddate\": \"2022-01-01\" # Day to which the data is to be retrieved in the format: YYYY-MM-DD\n",
    "}\n",
    "\n",
    "# load mapping file to translate sensor name to patch name and meassurement acronyms to names.\n",
    "sensor_mapping = \"\"\n",
    "with open(\"patchcrop-sensor-mapping.json\") as jsonfile:\n",
    "        sensor_mapping = json.load(jsonfile)\n"
   ]
  },
  {
   "cell_type": "markdown",
   "id": "cf9a4204-d1aa-47f0-9526-ffee03862b1b",
   "metadata": {},
   "source": [
    "## remove downloaded data if existing"
   ]
  },
  {
   "cell_type": "code",
   "execution_count": null,
   "id": "9576a6b0-4c34-4c2a-aa18-e164521fd7fc",
   "metadata": {},
   "outputs": [],
   "source": [
    "! rm -rf data/*"
   ]
  },
  {
   "cell_type": "markdown",
   "id": "be037909-5895-4492-88eb-e7ee64fed451",
   "metadata": {},
   "source": [
    "# Run data download"
   ]
  },
  {
   "cell_type": "code",
   "execution_count": null,
   "id": "f33e4913-90de-4ce7-8c21-56823fb2ad16",
   "metadata": {},
   "outputs": [],
   "source": [
    "import logstar_stream.logstar as logstar\n",
    "import logstar_stream.processing_steps.ProcessingStep as ps\n",
    "import logging\n",
    "\n",
    "# configure logging\n",
    "logging.basicConfig(format='%(asctime)s %(message)s', level=logging.INFO)\n",
    "\n",
    "df_dict = logstar.manage_dl_db( conf=conf,                     # configuration\n",
    "                                sensor_mapping=sensor_mapping, # translation file\n",
    "                                csv_folder=\"data/\")            # folder to write csv files to"
   ]
  },
  {
   "cell_type": "markdown",
   "id": "c87ae0de-f333-4fe3-8224-44a9d8fef431",
   "metadata": {},
   "source": [
    "## prepare plotting\n",
    "in this example matplotlib(https://matplotlib.org/) is used to generate plots. The following codebox install matplotlib, imports it, and loads interactive feature... "
   ]
  },
  {
   "cell_type": "code",
   "execution_count": null,
   "id": "814f5665-c130-4658-91be-3fb614de7d47",
   "metadata": {},
   "outputs": [],
   "source": [
    "! pip install matplotlib\n",
    "from matplotlib import interactive\n",
    "interactive(True)"
   ]
  },
  {
   "cell_type": "markdown",
   "id": "6cea926f-366e-423c-bcae-b70fc6903d74",
   "metadata": {},
   "source": [
    "## plot data\n",
    "The following codebox selects patch_12 from all downloaded data and plots columns defined in columns."
   ]
  },
  {
   "cell_type": "code",
   "execution_count": null,
   "id": "1a9c694f-b4e6-4ba3-a10e-fcf52b2e528f",
   "metadata": {},
   "outputs": [],
   "source": [
    "\n",
    "# define columns to plot\n",
    "columns = ['dateTime','water_content_right_30_cm','water_content_right_60_cm','water_content_right_90_cm']\n",
    "df = df_dict['patch_12'].loc[:,columns]\n",
    "# plot the data (docs: https://pandas.pydata.org/docs/reference/api/pandas.DataFrame.plot.html)\n",
    "df.plot(x=\"dateTime\")"
   ]
  },
  {
   "cell_type": "code",
   "execution_count": null,
   "id": "cb508fd8-c7f9-42f4-b576-418cc3145769",
   "metadata": {},
   "outputs": [],
   "source": []
  }
 ],
 "metadata": {
  "kernelspec": {
   "display_name": "Python 3 (ipykernel)",
   "language": "python",
   "name": "python3"
  },
  "language_info": {
   "codemirror_mode": {
    "name": "ipython",
    "version": 3
   },
   "file_extension": ".py",
   "mimetype": "text/x-python",
   "name": "python",
   "nbconvert_exporter": "python",
   "pygments_lexer": "ipython3",
   "version": "3.10.6"
  }
 },
 "nbformat": 4,
 "nbformat_minor": 5
}
